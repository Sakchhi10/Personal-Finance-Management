{
 "cells": [
  {
   "cell_type": "code",
   "execution_count": 2,
   "id": "59a24212",
   "metadata": {},
   "outputs": [],
   "source": [
    "class Expense:\n",
    "    def __init__(self, amount, category, description, date):\n",
    "        self.amount = amount\n",
    "        self.category = category\n",
    "        self.description = description\n",
    "        self.date = date\n"
   ]
  },
  {
   "cell_type": "code",
   "execution_count": 3,
   "id": "0a3ce08a",
   "metadata": {},
   "outputs": [
    {
     "name": "stdout",
     "output_type": "stream",
     "text": [
      "\n",
      "==== Personal Finance Management ====\n",
      "1. Record Expense\n",
      "2. View Expenses\n",
      "3. Calculate Total Expenses\n",
      "4. Exit\n",
      "Enter your choice (1/2/3/4): 1\n",
      "Enter the expense amount: 4\n",
      "Enter the expense category: 3\n",
      "Enter a brief description: high\n",
      "Enter the date (YYYY-MM-DD): 2023-07-29\n",
      "Expense recorded successfully!\n",
      "\n",
      "==== Personal Finance Management ====\n",
      "1. Record Expense\n",
      "2. View Expenses\n",
      "3. Calculate Total Expenses\n",
      "4. Exit\n",
      "Enter your choice (1/2/3/4): 2\n",
      "Expense Details:\n",
      "1. Date: 2023-07-29, Category: 3, Amount: 4.0, Description: high\n",
      "\n",
      "==== Personal Finance Management ====\n",
      "1. Record Expense\n",
      "2. View Expenses\n",
      "3. Calculate Total Expenses\n",
      "4. Exit\n",
      "Enter your choice (1/2/3/4): 4\n",
      "Exiting the application.\n"
     ]
    }
   ],
   "source": [
    "# List to store all expenses\n",
    "expenses = []\n",
    "\n",
    "def record_expense():\n",
    "    amount = float(input(\"Enter the expense amount: \"))\n",
    "    category = input(\"Enter the expense category: \")\n",
    "    description = input(\"Enter a brief description: \")\n",
    "    date = input(\"Enter the date (YYYY-MM-DD): \")\n",
    "\n",
    "    new_expense = Expense(amount, category, description, date)\n",
    "    expenses.append(new_expense)\n",
    "\n",
    "    print(\"Expense recorded successfully!\")\n",
    "\n",
    "def view_expenses():\n",
    "    if not expenses:\n",
    "        print(\"No expenses recorded yet.\")\n",
    "    else:\n",
    "        print(\"Expense Details:\")\n",
    "        for index, expense in enumerate(expenses, start=1):\n",
    "            print(f\"{index}. Date: {expense.date}, Category: {expense.category}, Amount: {expense.amount}, Description: {expense.description}\")\n",
    "\n",
    "def calculate_total_expenses():\n",
    "    total_expenses = sum(expense.amount for expense in expenses)\n",
    "    print(f\"Total Expenses: {total_expenses:.2f}\")\n",
    "\n",
    "def main():\n",
    "    while True:\n",
    "        print(\"\\n==== Personal Finance Management ====\")\n",
    "        print(\"1. Record Expense\")\n",
    "        print(\"2. View Expenses\")\n",
    "        print(\"3. Calculate Total Expenses\")\n",
    "        print(\"4. Exit\")\n",
    "\n",
    "        choice = input(\"Enter your choice (1/2/3/4): \")\n",
    "\n",
    "        if choice == \"1\":\n",
    "            record_expense()\n",
    "        elif choice == \"2\":\n",
    "            view_expenses()\n",
    "        elif choice == \"3\":\n",
    "            calculate_total_expenses()\n",
    "        elif choice == \"4\":\n",
    "            print(\"Exiting the application.\")\n",
    "            break\n",
    "        else:\n",
    "            print(\"Invalid choice. Please try again.\")\n",
    "\n",
    "if __name__ == \"__main__\":\n",
    "    main()\n"
   ]
  },
  {
   "cell_type": "code",
   "execution_count": null,
   "id": "f4313981",
   "metadata": {},
   "outputs": [],
   "source": []
  }
 ],
 "metadata": {
  "kernelspec": {
   "display_name": "Python 3 (ipykernel)",
   "language": "python",
   "name": "python3"
  },
  "language_info": {
   "codemirror_mode": {
    "name": "ipython",
    "version": 3
   },
   "file_extension": ".py",
   "mimetype": "text/x-python",
   "name": "python",
   "nbconvert_exporter": "python",
   "pygments_lexer": "ipython3",
   "version": "3.9.12"
  }
 },
 "nbformat": 4,
 "nbformat_minor": 5
}
